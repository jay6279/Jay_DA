{
 "cells": [
  {
   "cell_type": "markdown",
   "id": "1a649fd3",
   "metadata": {},
   "source": [
    "### Importing libraries and CSV file"
   ]
  },
  {
   "cell_type": "code",
   "execution_count": 1,
   "id": "0dead5f9",
   "metadata": {},
   "outputs": [],
   "source": [
    "import pandas as pd\n",
    "import numpy as np\n",
    "import matplotlib.pyplot as plt\n",
    "import seaborn as sns\n",
    "\n",
    "loan = pd.read_csv('loan_details.csv')\n",
    "personal = pd.read_csv('personal_details.csv')\n",
    "emp = pd.read_csv('Employment_details.csv')"
   ]
  },
  {
   "cell_type": "markdown",
   "id": "00e93325",
   "metadata": {},
   "source": [
    "### Merging CSV files"
   ]
  },
  {
   "cell_type": "code",
   "execution_count": 2,
   "id": "5c7f3f26",
   "metadata": {},
   "outputs": [],
   "source": [
    "tk = pd.merge(personal, loan, left_on= ['Id'] , right_on= ['Id'] , how = 'inner').merge(emp, on = ['Id'])"
   ]
  },
  {
   "cell_type": "markdown",
   "id": "845f842e",
   "metadata": {},
   "source": [
    "### Renaming all columns "
   ]
  },
  {
   "cell_type": "code",
   "execution_count": 3,
   "id": "4ebff87f",
   "metadata": {},
   "outputs": [],
   "source": [
    "mapper = {'Gender' : 'gender' , 'Marital Status' : 'marital_status' , 'Family members' : 'family_members' , \n",
    "          'Status of education' : 'education' , 'LoanAmount applied for (in thoudands)' : 'loan_applied',\n",
    "         'Loan_Amount_Duration' : 'loan_duration' , 'Credit_History' : 'credit_history' ,  'Property_Area' : 'property_area',\n",
    "         'Loan_Status' : 'loan_status' , 'Income of applicant' : 'income_of_applicant',\n",
    "         'Income of coapplicant' : 'income_of_coapplicant' , 'Self_Employed' : 'self_employed' , 'Id' : 'id'}\n",
    "\n",
    "tk.rename(columns = mapper , inplace = True)"
   ]
  },
  {
   "cell_type": "markdown",
   "id": "0296f1ea",
   "metadata": {},
   "source": [
    "### Viewing the dataset after merging and renaming"
   ]
  },
  {
   "cell_type": "code",
   "execution_count": 4,
   "id": "e0494f69",
   "metadata": {
    "scrolled": true
   },
   "outputs": [
    {
     "data": {
      "text/html": [
       "<div>\n",
       "<style scoped>\n",
       "    .dataframe tbody tr th:only-of-type {\n",
       "        vertical-align: middle;\n",
       "    }\n",
       "\n",
       "    .dataframe tbody tr th {\n",
       "        vertical-align: top;\n",
       "    }\n",
       "\n",
       "    .dataframe thead th {\n",
       "        text-align: right;\n",
       "    }\n",
       "</style>\n",
       "<table border=\"1\" class=\"dataframe\">\n",
       "  <thead>\n",
       "    <tr style=\"text-align: right;\">\n",
       "      <th></th>\n",
       "      <th>id</th>\n",
       "      <th>gender</th>\n",
       "      <th>marital_status</th>\n",
       "      <th>family_members</th>\n",
       "      <th>education</th>\n",
       "      <th>loan_applied</th>\n",
       "      <th>loan_duration</th>\n",
       "      <th>credit_history</th>\n",
       "      <th>property_area</th>\n",
       "      <th>loan_status</th>\n",
       "      <th>self_employed</th>\n",
       "      <th>income_of_applicant</th>\n",
       "      <th>income_of_coapplicant</th>\n",
       "    </tr>\n",
       "  </thead>\n",
       "  <tbody>\n",
       "    <tr>\n",
       "      <th>0</th>\n",
       "      <td>1</td>\n",
       "      <td>Male</td>\n",
       "      <td>Yes</td>\n",
       "      <td>2</td>\n",
       "      <td>Not Graduate</td>\n",
       "      <td>156.0</td>\n",
       "      <td>360.0</td>\n",
       "      <td>1.0</td>\n",
       "      <td>Rural</td>\n",
       "      <td>N</td>\n",
       "      <td>No</td>\n",
       "      <td>1166</td>\n",
       "      <td>1053</td>\n",
       "    </tr>\n",
       "    <tr>\n",
       "      <th>1</th>\n",
       "      <td>2</td>\n",
       "      <td>Male</td>\n",
       "      <td>Yes</td>\n",
       "      <td>0</td>\n",
       "      <td>Graduate</td>\n",
       "      <td>186.0</td>\n",
       "      <td>400.0</td>\n",
       "      <td>1.0</td>\n",
       "      <td>Rural</td>\n",
       "      <td>Y</td>\n",
       "      <td>No</td>\n",
       "      <td>4689</td>\n",
       "      <td>3261</td>\n",
       "    </tr>\n",
       "    <tr>\n",
       "      <th>2</th>\n",
       "      <td>3</td>\n",
       "      <td>Female</td>\n",
       "      <td>Yes</td>\n",
       "      <td>3+</td>\n",
       "      <td>Graduate</td>\n",
       "      <td>50.0</td>\n",
       "      <td>360.0</td>\n",
       "      <td>1.0</td>\n",
       "      <td>Urban</td>\n",
       "      <td>N</td>\n",
       "      <td>No</td>\n",
       "      <td>21730</td>\n",
       "      <td>0</td>\n",
       "    </tr>\n",
       "    <tr>\n",
       "      <th>3</th>\n",
       "      <td>4</td>\n",
       "      <td>Male</td>\n",
       "      <td>Yes</td>\n",
       "      <td>1</td>\n",
       "      <td>Not Graduate</td>\n",
       "      <td>95.0</td>\n",
       "      <td>360.0</td>\n",
       "      <td>1.0</td>\n",
       "      <td>Urban</td>\n",
       "      <td>Y</td>\n",
       "      <td>NaN</td>\n",
       "      <td>8333</td>\n",
       "      <td>0</td>\n",
       "    </tr>\n",
       "    <tr>\n",
       "      <th>4</th>\n",
       "      <td>5</td>\n",
       "      <td>Male</td>\n",
       "      <td>No</td>\n",
       "      <td>0</td>\n",
       "      <td>Not Graduate</td>\n",
       "      <td>90.0</td>\n",
       "      <td>180.0</td>\n",
       "      <td>1.0</td>\n",
       "      <td>Urban</td>\n",
       "      <td>N</td>\n",
       "      <td>No</td>\n",
       "      <td>2795</td>\n",
       "      <td>0</td>\n",
       "    </tr>\n",
       "  </tbody>\n",
       "</table>\n",
       "</div>"
      ],
      "text/plain": [
       "   id  gender marital_status family_members     education  loan_applied  \\\n",
       "0   1    Male            Yes              2  Not Graduate         156.0   \n",
       "1   2    Male            Yes              0      Graduate         186.0   \n",
       "2   3  Female            Yes             3+      Graduate          50.0   \n",
       "3   4    Male            Yes              1  Not Graduate          95.0   \n",
       "4   5    Male             No              0  Not Graduate          90.0   \n",
       "\n",
       "   loan_duration  credit_history property_area loan_status self_employed  \\\n",
       "0          360.0             1.0         Rural           N            No   \n",
       "1          400.0             1.0         Rural           Y            No   \n",
       "2          360.0             1.0         Urban           N            No   \n",
       "3          360.0             1.0         Urban           Y           NaN   \n",
       "4          180.0             1.0         Urban           N            No   \n",
       "\n",
       "   income_of_applicant  income_of_coapplicant  \n",
       "0                 1166                   1053  \n",
       "1                 4689                   3261  \n",
       "2                21730                      0  \n",
       "3                 8333                      0  \n",
       "4                 2795                      0  "
      ]
     },
     "execution_count": 4,
     "metadata": {},
     "output_type": "execute_result"
    }
   ],
   "source": [
    "tk.head()"
   ]
  },
  {
   "cell_type": "markdown",
   "id": "6acb5a53",
   "metadata": {},
   "source": [
    "### Looking at the data type"
   ]
  },
  {
   "cell_type": "code",
   "execution_count": 5,
   "id": "c618b613",
   "metadata": {
    "scrolled": true
   },
   "outputs": [
    {
     "name": "stdout",
     "output_type": "stream",
     "text": [
      "<class 'pandas.core.frame.DataFrame'>\n",
      "Int64Index: 47856 entries, 0 to 47855\n",
      "Data columns (total 13 columns):\n",
      " #   Column                 Non-Null Count  Dtype  \n",
      "---  ------                 --------------  -----  \n",
      " 0   id                     47856 non-null  int64  \n",
      " 1   gender                 46676 non-null  object \n",
      " 2   marital_status         47856 non-null  object \n",
      " 3   family_members         46615 non-null  object \n",
      " 4   education              47856 non-null  object \n",
      " 5   loan_applied           45660 non-null  float64\n",
      " 6   loan_duration          46367 non-null  float64\n",
      " 7   credit_history         44409 non-null  float64\n",
      " 8   property_area          47856 non-null  object \n",
      " 9   loan_status            47856 non-null  object \n",
      " 10  self_employed          45311 non-null  object \n",
      " 11  income_of_applicant    47856 non-null  int64  \n",
      " 12  income_of_coapplicant  47856 non-null  int64  \n",
      "dtypes: float64(3), int64(3), object(7)\n",
      "memory usage: 5.1+ MB\n"
     ]
    }
   ],
   "source": [
    "tk.info()"
   ]
  },
  {
   "cell_type": "markdown",
   "id": "33ca397b",
   "metadata": {},
   "source": [
    "### Looking at the null values present in the dataset"
   ]
  },
  {
   "cell_type": "code",
   "execution_count": 6,
   "id": "99fbe37d",
   "metadata": {},
   "outputs": [
    {
     "data": {
      "text/plain": [
       "id                          0\n",
       "gender                   1180\n",
       "marital_status              0\n",
       "family_members           1241\n",
       "education                   0\n",
       "loan_applied             2196\n",
       "loan_duration            1489\n",
       "credit_history           3447\n",
       "property_area               0\n",
       "loan_status                 0\n",
       "self_employed            2545\n",
       "income_of_applicant         0\n",
       "income_of_coapplicant       0\n",
       "dtype: int64"
      ]
     },
     "execution_count": 6,
     "metadata": {},
     "output_type": "execute_result"
    }
   ],
   "source": [
    "tk.isnull().sum()"
   ]
  },
  {
   "cell_type": "markdown",
   "id": "682c3192",
   "metadata": {},
   "source": [
    "### Dropping the duplicates (if any)"
   ]
  },
  {
   "cell_type": "code",
   "execution_count": 7,
   "id": "376755e2",
   "metadata": {},
   "outputs": [],
   "source": [
    "tk.drop_duplicates(inplace = True)"
   ]
  },
  {
   "cell_type": "markdown",
   "id": "410b4ecb",
   "metadata": {},
   "source": [
    "### Looking at the total numbers of the columns and rows"
   ]
  },
  {
   "cell_type": "code",
   "execution_count": 8,
   "id": "ae7a540f",
   "metadata": {
    "scrolled": true
   },
   "outputs": [
    {
     "data": {
      "text/plain": [
       "(47856, 13)"
      ]
     },
     "execution_count": 8,
     "metadata": {},
     "output_type": "execute_result"
    }
   ],
   "source": [
    "tk.shape"
   ]
  },
  {
   "cell_type": "markdown",
   "id": "41254490",
   "metadata": {},
   "source": [
    "### Removing unwanted value from a 'family_members' column"
   ]
  },
  {
   "cell_type": "code",
   "execution_count": 9,
   "id": "dfe5ec90",
   "metadata": {},
   "outputs": [],
   "source": [
    "tk['family_members'].replace('3+' , '3' , inplace = True)"
   ]
  },
  {
   "cell_type": "markdown",
   "id": "97229810",
   "metadata": {},
   "source": [
    "### Imputing the null values using mean and median"
   ]
  },
  {
   "cell_type": "code",
   "execution_count": 10,
   "id": "1a2373c9",
   "metadata": {},
   "outputs": [],
   "source": [
    "tk['gender'] = tk['gender'].fillna(tk['gender'].mode()[0])\n",
    "\n",
    "tk['family_members'] = tk['family_members'].fillna(tk['family_members'].mode()[0])\n",
    "\n",
    "tk['credit_history'] = tk['credit_history'].fillna(tk['credit_history'].mode()[0])\n",
    "\n",
    "tk['self_employed'] = tk['self_employed'].fillna(tk['self_employed'].mode()[0])"
   ]
  },
  {
   "cell_type": "code",
   "execution_count": 11,
   "id": "32fba983",
   "metadata": {},
   "outputs": [],
   "source": [
    "tk['loan_applied'].fillna('0' , inplace = True)\n",
    "tk['loan_applied'] = tk['loan_applied'].astype('int64')\n",
    "tk['loan_applied'] = tk['loan_applied'].replace(0, tk['loan_applied'].median())"
   ]
  },
  {
   "cell_type": "code",
   "execution_count": 12,
   "id": "4b1249bd",
   "metadata": {},
   "outputs": [],
   "source": [
    "tk['loan_duration'].fillna('0' , inplace = True)\n",
    "tk['loan_duration'] = tk['loan_duration'].astype('int64')\n",
    "tk['loan_duration'] = tk['loan_duration'].replace(0, tk['loan_duration'].mean())"
   ]
  },
  {
   "cell_type": "markdown",
   "id": "826a313e",
   "metadata": {},
   "source": [
    "### The null values imputed"
   ]
  },
  {
   "cell_type": "code",
   "execution_count": 13,
   "id": "e817b5e3",
   "metadata": {
    "scrolled": true
   },
   "outputs": [
    {
     "data": {
      "text/plain": [
       "id                       0\n",
       "gender                   0\n",
       "marital_status           0\n",
       "family_members           0\n",
       "education                0\n",
       "loan_applied             0\n",
       "loan_duration            0\n",
       "credit_history           0\n",
       "property_area            0\n",
       "loan_status              0\n",
       "self_employed            0\n",
       "income_of_applicant      0\n",
       "income_of_coapplicant    0\n",
       "dtype: int64"
      ]
     },
     "execution_count": 13,
     "metadata": {},
     "output_type": "execute_result"
    }
   ],
   "source": [
    "tk.isnull().sum()"
   ]
  },
  {
   "cell_type": "markdown",
   "id": "b7c70a20",
   "metadata": {},
   "source": [
    "### Looking at the data type"
   ]
  },
  {
   "cell_type": "code",
   "execution_count": 14,
   "id": "ebbd27e5",
   "metadata": {
    "scrolled": true
   },
   "outputs": [
    {
     "name": "stdout",
     "output_type": "stream",
     "text": [
      "<class 'pandas.core.frame.DataFrame'>\n",
      "Int64Index: 47856 entries, 0 to 47855\n",
      "Data columns (total 13 columns):\n",
      " #   Column                 Non-Null Count  Dtype  \n",
      "---  ------                 --------------  -----  \n",
      " 0   id                     47856 non-null  int64  \n",
      " 1   gender                 47856 non-null  object \n",
      " 2   marital_status         47856 non-null  object \n",
      " 3   family_members         47856 non-null  object \n",
      " 4   education              47856 non-null  object \n",
      " 5   loan_applied           47856 non-null  int64  \n",
      " 6   loan_duration          47856 non-null  float64\n",
      " 7   credit_history         47856 non-null  float64\n",
      " 8   property_area          47856 non-null  object \n",
      " 9   loan_status            47856 non-null  object \n",
      " 10  self_employed          47856 non-null  object \n",
      " 11  income_of_applicant    47856 non-null  int64  \n",
      " 12  income_of_coapplicant  47856 non-null  int64  \n",
      "dtypes: float64(2), int64(4), object(7)\n",
      "memory usage: 5.1+ MB\n"
     ]
    }
   ],
   "source": [
    "tk.info()"
   ]
  },
  {
   "cell_type": "markdown",
   "id": "3ed677dd",
   "metadata": {},
   "source": [
    "### Changing the data type"
   ]
  },
  {
   "cell_type": "code",
   "execution_count": 15,
   "id": "89f27bea",
   "metadata": {},
   "outputs": [],
   "source": [
    "tk['family_members'] = tk['family_members'].astype('int64')\n",
    "tk['credit_history'] = tk['credit_history'].astype('int64')"
   ]
  },
  {
   "cell_type": "markdown",
   "id": "def3a307",
   "metadata": {},
   "source": [
    "### After replacing data type, looking at the results"
   ]
  },
  {
   "cell_type": "code",
   "execution_count": 16,
   "id": "e0631cff",
   "metadata": {
    "scrolled": true
   },
   "outputs": [
    {
     "name": "stdout",
     "output_type": "stream",
     "text": [
      "<class 'pandas.core.frame.DataFrame'>\n",
      "Int64Index: 47856 entries, 0 to 47855\n",
      "Data columns (total 13 columns):\n",
      " #   Column                 Non-Null Count  Dtype  \n",
      "---  ------                 --------------  -----  \n",
      " 0   id                     47856 non-null  int64  \n",
      " 1   gender                 47856 non-null  object \n",
      " 2   marital_status         47856 non-null  object \n",
      " 3   family_members         47856 non-null  int64  \n",
      " 4   education              47856 non-null  object \n",
      " 5   loan_applied           47856 non-null  int64  \n",
      " 6   loan_duration          47856 non-null  float64\n",
      " 7   credit_history         47856 non-null  int64  \n",
      " 8   property_area          47856 non-null  object \n",
      " 9   loan_status            47856 non-null  object \n",
      " 10  self_employed          47856 non-null  object \n",
      " 11  income_of_applicant    47856 non-null  int64  \n",
      " 12  income_of_coapplicant  47856 non-null  int64  \n",
      "dtypes: float64(1), int64(6), object(6)\n",
      "memory usage: 5.1+ MB\n"
     ]
    }
   ],
   "source": [
    "tk.info()"
   ]
  },
  {
   "cell_type": "markdown",
   "id": "1f51faf2",
   "metadata": {},
   "source": [
    "### Printing 5 rows just to ensure that all the changes took place correctly"
   ]
  },
  {
   "cell_type": "code",
   "execution_count": 17,
   "id": "9c7b9a8d",
   "metadata": {
    "scrolled": true
   },
   "outputs": [
    {
     "data": {
      "text/html": [
       "<div>\n",
       "<style scoped>\n",
       "    .dataframe tbody tr th:only-of-type {\n",
       "        vertical-align: middle;\n",
       "    }\n",
       "\n",
       "    .dataframe tbody tr th {\n",
       "        vertical-align: top;\n",
       "    }\n",
       "\n",
       "    .dataframe thead th {\n",
       "        text-align: right;\n",
       "    }\n",
       "</style>\n",
       "<table border=\"1\" class=\"dataframe\">\n",
       "  <thead>\n",
       "    <tr style=\"text-align: right;\">\n",
       "      <th></th>\n",
       "      <th>id</th>\n",
       "      <th>gender</th>\n",
       "      <th>marital_status</th>\n",
       "      <th>family_members</th>\n",
       "      <th>education</th>\n",
       "      <th>loan_applied</th>\n",
       "      <th>loan_duration</th>\n",
       "      <th>credit_history</th>\n",
       "      <th>property_area</th>\n",
       "      <th>loan_status</th>\n",
       "      <th>self_employed</th>\n",
       "      <th>income_of_applicant</th>\n",
       "      <th>income_of_coapplicant</th>\n",
       "    </tr>\n",
       "  </thead>\n",
       "  <tbody>\n",
       "    <tr>\n",
       "      <th>0</th>\n",
       "      <td>1</td>\n",
       "      <td>Male</td>\n",
       "      <td>Yes</td>\n",
       "      <td>2</td>\n",
       "      <td>Not Graduate</td>\n",
       "      <td>156</td>\n",
       "      <td>360.0</td>\n",
       "      <td>1</td>\n",
       "      <td>Rural</td>\n",
       "      <td>N</td>\n",
       "      <td>No</td>\n",
       "      <td>1166</td>\n",
       "      <td>1053</td>\n",
       "    </tr>\n",
       "    <tr>\n",
       "      <th>1</th>\n",
       "      <td>2</td>\n",
       "      <td>Male</td>\n",
       "      <td>Yes</td>\n",
       "      <td>0</td>\n",
       "      <td>Graduate</td>\n",
       "      <td>186</td>\n",
       "      <td>400.0</td>\n",
       "      <td>1</td>\n",
       "      <td>Rural</td>\n",
       "      <td>Y</td>\n",
       "      <td>No</td>\n",
       "      <td>4689</td>\n",
       "      <td>3261</td>\n",
       "    </tr>\n",
       "    <tr>\n",
       "      <th>2</th>\n",
       "      <td>3</td>\n",
       "      <td>Female</td>\n",
       "      <td>Yes</td>\n",
       "      <td>3</td>\n",
       "      <td>Graduate</td>\n",
       "      <td>50</td>\n",
       "      <td>360.0</td>\n",
       "      <td>1</td>\n",
       "      <td>Urban</td>\n",
       "      <td>N</td>\n",
       "      <td>No</td>\n",
       "      <td>21730</td>\n",
       "      <td>0</td>\n",
       "    </tr>\n",
       "    <tr>\n",
       "      <th>3</th>\n",
       "      <td>4</td>\n",
       "      <td>Male</td>\n",
       "      <td>Yes</td>\n",
       "      <td>1</td>\n",
       "      <td>Not Graduate</td>\n",
       "      <td>95</td>\n",
       "      <td>360.0</td>\n",
       "      <td>1</td>\n",
       "      <td>Urban</td>\n",
       "      <td>Y</td>\n",
       "      <td>No</td>\n",
       "      <td>8333</td>\n",
       "      <td>0</td>\n",
       "    </tr>\n",
       "    <tr>\n",
       "      <th>4</th>\n",
       "      <td>5</td>\n",
       "      <td>Male</td>\n",
       "      <td>No</td>\n",
       "      <td>0</td>\n",
       "      <td>Not Graduate</td>\n",
       "      <td>90</td>\n",
       "      <td>180.0</td>\n",
       "      <td>1</td>\n",
       "      <td>Urban</td>\n",
       "      <td>N</td>\n",
       "      <td>No</td>\n",
       "      <td>2795</td>\n",
       "      <td>0</td>\n",
       "    </tr>\n",
       "  </tbody>\n",
       "</table>\n",
       "</div>"
      ],
      "text/plain": [
       "   id  gender marital_status  family_members     education  loan_applied  \\\n",
       "0   1    Male            Yes               2  Not Graduate           156   \n",
       "1   2    Male            Yes               0      Graduate           186   \n",
       "2   3  Female            Yes               3      Graduate            50   \n",
       "3   4    Male            Yes               1  Not Graduate            95   \n",
       "4   5    Male             No               0  Not Graduate            90   \n",
       "\n",
       "   loan_duration  credit_history property_area loan_status self_employed  \\\n",
       "0          360.0               1         Rural           N            No   \n",
       "1          400.0               1         Rural           Y            No   \n",
       "2          360.0               1         Urban           N            No   \n",
       "3          360.0               1         Urban           Y            No   \n",
       "4          180.0               1         Urban           N            No   \n",
       "\n",
       "   income_of_applicant  income_of_coapplicant  \n",
       "0                 1166                   1053  \n",
       "1                 4689                   3261  \n",
       "2                21730                      0  \n",
       "3                 8333                      0  \n",
       "4                 2795                      0  "
      ]
     },
     "execution_count": 17,
     "metadata": {},
     "output_type": "execute_result"
    }
   ],
   "source": [
    "tk.head()"
   ]
  },
  {
   "cell_type": "markdown",
   "id": "a2e44d3c",
   "metadata": {},
   "source": [
    "### Detecting outliers in numeric columns"
   ]
  },
  {
   "cell_type": "code",
   "execution_count": 18,
   "id": "aee61c6d",
   "metadata": {},
   "outputs": [
    {
     "data": {
      "text/html": [
       "<div>\n",
       "<style scoped>\n",
       "    .dataframe tbody tr th:only-of-type {\n",
       "        vertical-align: middle;\n",
       "    }\n",
       "\n",
       "    .dataframe tbody tr th {\n",
       "        vertical-align: top;\n",
       "    }\n",
       "\n",
       "    .dataframe thead th {\n",
       "        text-align: right;\n",
       "    }\n",
       "</style>\n",
       "<table border=\"1\" class=\"dataframe\">\n",
       "  <thead>\n",
       "    <tr style=\"text-align: right;\">\n",
       "      <th></th>\n",
       "      <th>id</th>\n",
       "      <th>family_members</th>\n",
       "      <th>loan_applied</th>\n",
       "      <th>loan_duration</th>\n",
       "      <th>credit_history</th>\n",
       "      <th>income_of_applicant</th>\n",
       "      <th>income_of_coapplicant</th>\n",
       "    </tr>\n",
       "  </thead>\n",
       "  <tbody>\n",
       "    <tr>\n",
       "      <th>0</th>\n",
       "      <td>1</td>\n",
       "      <td>2</td>\n",
       "      <td>156</td>\n",
       "      <td>360.0</td>\n",
       "      <td>1</td>\n",
       "      <td>1166</td>\n",
       "      <td>1053</td>\n",
       "    </tr>\n",
       "    <tr>\n",
       "      <th>1</th>\n",
       "      <td>2</td>\n",
       "      <td>0</td>\n",
       "      <td>186</td>\n",
       "      <td>400.0</td>\n",
       "      <td>1</td>\n",
       "      <td>4689</td>\n",
       "      <td>3261</td>\n",
       "    </tr>\n",
       "    <tr>\n",
       "      <th>2</th>\n",
       "      <td>3</td>\n",
       "      <td>3</td>\n",
       "      <td>50</td>\n",
       "      <td>360.0</td>\n",
       "      <td>1</td>\n",
       "      <td>21730</td>\n",
       "      <td>0</td>\n",
       "    </tr>\n",
       "    <tr>\n",
       "      <th>3</th>\n",
       "      <td>4</td>\n",
       "      <td>1</td>\n",
       "      <td>95</td>\n",
       "      <td>360.0</td>\n",
       "      <td>1</td>\n",
       "      <td>8333</td>\n",
       "      <td>0</td>\n",
       "    </tr>\n",
       "    <tr>\n",
       "      <th>4</th>\n",
       "      <td>5</td>\n",
       "      <td>0</td>\n",
       "      <td>90</td>\n",
       "      <td>180.0</td>\n",
       "      <td>1</td>\n",
       "      <td>2795</td>\n",
       "      <td>0</td>\n",
       "    </tr>\n",
       "  </tbody>\n",
       "</table>\n",
       "</div>"
      ],
      "text/plain": [
       "   id  family_members  loan_applied  loan_duration  credit_history  \\\n",
       "0   1               2           156          360.0               1   \n",
       "1   2               0           186          400.0               1   \n",
       "2   3               3            50          360.0               1   \n",
       "3   4               1            95          360.0               1   \n",
       "4   5               0            90          180.0               1   \n",
       "\n",
       "   income_of_applicant  income_of_coapplicant  \n",
       "0                 1166                   1053  \n",
       "1                 4689                   3261  \n",
       "2                21730                      0  \n",
       "3                 8333                      0  \n",
       "4                 2795                      0  "
      ]
     },
     "execution_count": 18,
     "metadata": {},
     "output_type": "execute_result"
    }
   ],
   "source": [
    "numeric_colums = tk.select_dtypes(include = 'number')\n",
    "numeric_colums.head()"
   ]
  },
  {
   "cell_type": "code",
   "execution_count": 19,
   "id": "0c8d6300",
   "metadata": {},
   "outputs": [
    {
     "name": "stdout",
     "output_type": "stream",
     "text": [
      "Outliers in *** id *** column\n"
     ]
    },
    {
     "data": {
      "image/png": "[encoded data removed]",
      "text/plain": [
       "<Figure size 432x288 with 1 Axes>"
      ]
     },
     "metadata": {
      "needs_background": "light"
     },
     "output_type": "display_data"
    },
    {
     "name": "stdout",
     "output_type": "stream",
     "text": [
      "_______________________________________________________________________________\n",
      "Outliers in *** family_members *** column\n"
     ]
    },
    {
     "data": {
      "image/png": "[encoded data removed]",
      "text/plain": [
       "<Figure size 432x288 with 1 Axes>"
      ]
     },
     "metadata": {
      "needs_background": "light"
     },
     "output_type": "display_data"
    },
    {
     "name": "stdout",
     "output_type": "stream",
     "text": [
      "_______________________________________________________________________________\n",
      "Outliers in *** loan_applied *** column\n"
     ]
    },
    {
     "data": {
      "image/png": "[encoded data removed]",
      "text/plain": [
       "<Figure size 432x288 with 1 Axes>"
      ]
     },
     "metadata": {
      "needs_background": "light"
     },
     "output_type": "display_data"
    },
    {
     "name": "stdout",
     "output_type": "stream",
     "text": [
      "_______________________________________________________________________________\n",
      "Outliers in *** loan_duration *** column\n"
     ]
    },
    {
     "data": {
      "image/png": "[encoded data removed]",
      "text/plain": [
       "<Figure size 432x288 with 1 Axes>"
      ]
     },
     "metadata": {
      "needs_background": "light"
     },
     "output_type": "display_data"
    },
    {
     "name": "stdout",
     "output_type": "stream",
     "text": [
      "_______________________________________________________________________________\n",
      "Outliers in *** credit_history *** column\n"
     ]
    },
    {
     "data": {
      "image/png": "[encoded data removed]",
      "text/plain": [
       "<Figure size 432x288 with 1 Axes>"
      ]
     },
     "metadata": {
      "needs_background": "light"
     },
     "output_type": "display_data"
    },
    {
     "name": "stdout",
     "output_type": "stream",
     "text": [
      "_______________________________________________________________________________\n",
      "Outliers in *** income_of_applicant *** column\n"
     ]
    },
    {
     "data": {
      "image/png": "[encoded data removed]",
      "text/plain": [
       "<Figure size 432x288 with 1 Axes>"
      ]
     },
     "metadata": {
      "needs_background": "light"
     },
     "output_type": "display_data"
    },
    {
     "name": "stdout",
     "output_type": "stream",
     "text": [
      "_______________________________________________________________________________\n",
      "Outliers in *** income_of_coapplicant *** column\n"
     ]
    },
    {
     "data": {
      "image/png": "[encoded data removed]",
      "text/plain": [
       "<Figure size 432x288 with 1 Axes>"
      ]
     },
     "metadata": {
      "needs_background": "light"
     },
     "output_type": "display_data"
    },
    {
     "name": "stdout",
     "output_type": "stream",
     "text": [
      "_______________________________________________________________________________\n"
     ]
    }
   ],
   "source": [
    "for i in numeric_colums:\n",
    "    print('Outliers in ***' , i , '*** column')\n",
    "    sns.boxplot(y = tk[i])\n",
    "    plt.show()\n",
    "    \n",
    "    print('_______________________________________________________________________________')"
   ]
  },
  {
   "cell_type": "markdown",
   "id": "d7e65231",
   "metadata": {},
   "source": [
    "### Creating dummy variables"
   ]
  },
  {
   "cell_type": "code",
   "execution_count": 22,
   "id": "9638c31e",
   "metadata": {},
   "outputs": [],
   "source": [
    "tk_dummies = pd.get_dummies(tk, columns = ['gender' , 'marital_status' , 'education' , 'property_area' , 'loan_status' , \n",
    "                                           'self_employed'],\n",
    "                           drop_first = True) \n",
    "#dummy_na = True"
   ]
  },
  {
   "cell_type": "code",
   "execution_count": 23,
   "id": "34057d05",
   "metadata": {
    "scrolled": true
   },
   "outputs": [
    {
     "data": {
      "text/html": [
       "<div>\n",
       "<style scoped>\n",
       "    .dataframe tbody tr th:only-of-type {\n",
       "        vertical-align: middle;\n",
       "    }\n",
       "\n",
       "    .dataframe tbody tr th {\n",
       "        vertical-align: top;\n",
       "    }\n",
       "\n",
       "    .dataframe thead th {\n",
       "        text-align: right;\n",
       "    }\n",
       "</style>\n",
       "<table border=\"1\" class=\"dataframe\">\n",
       "  <thead>\n",
       "    <tr style=\"text-align: right;\">\n",
       "      <th></th>\n",
       "      <th>id</th>\n",
       "      <th>family_members</th>\n",
       "      <th>loan_applied</th>\n",
       "      <th>loan_duration</th>\n",
       "      <th>credit_history</th>\n",
       "      <th>income_of_applicant</th>\n",
       "      <th>income_of_coapplicant</th>\n",
       "      <th>gender_Male</th>\n",
       "      <th>marital_status_Yes</th>\n",
       "      <th>education_Not Graduate</th>\n",
       "      <th>property_area_Semiurban</th>\n",
       "      <th>property_area_Urban</th>\n",
       "      <th>loan_status_Y</th>\n",
       "      <th>self_employed_Yes</th>\n",
       "    </tr>\n",
       "  </thead>\n",
       "  <tbody>\n",
       "    <tr>\n",
       "      <th>0</th>\n",
       "      <td>1</td>\n",
       "      <td>2</td>\n",
       "      <td>156</td>\n",
       "      <td>360.0</td>\n",
       "      <td>1</td>\n",
       "      <td>1166</td>\n",
       "      <td>1053</td>\n",
       "      <td>1</td>\n",
       "      <td>1</td>\n",
       "      <td>1</td>\n",
       "      <td>0</td>\n",
       "      <td>0</td>\n",
       "      <td>0</td>\n",
       "      <td>0</td>\n",
       "    </tr>\n",
       "    <tr>\n",
       "      <th>1</th>\n",
       "      <td>2</td>\n",
       "      <td>0</td>\n",
       "      <td>186</td>\n",
       "      <td>400.0</td>\n",
       "      <td>1</td>\n",
       "      <td>4689</td>\n",
       "      <td>3261</td>\n",
       "      <td>1</td>\n",
       "      <td>1</td>\n",
       "      <td>0</td>\n",
       "      <td>0</td>\n",
       "      <td>0</td>\n",
       "      <td>1</td>\n",
       "      <td>0</td>\n",
       "    </tr>\n",
       "    <tr>\n",
       "      <th>2</th>\n",
       "      <td>3</td>\n",
       "      <td>3</td>\n",
       "      <td>50</td>\n",
       "      <td>360.0</td>\n",
       "      <td>1</td>\n",
       "      <td>21730</td>\n",
       "      <td>0</td>\n",
       "      <td>0</td>\n",
       "      <td>1</td>\n",
       "      <td>0</td>\n",
       "      <td>0</td>\n",
       "      <td>1</td>\n",
       "      <td>0</td>\n",
       "      <td>0</td>\n",
       "    </tr>\n",
       "    <tr>\n",
       "      <th>3</th>\n",
       "      <td>4</td>\n",
       "      <td>1</td>\n",
       "      <td>95</td>\n",
       "      <td>360.0</td>\n",
       "      <td>1</td>\n",
       "      <td>8333</td>\n",
       "      <td>0</td>\n",
       "      <td>1</td>\n",
       "      <td>1</td>\n",
       "      <td>1</td>\n",
       "      <td>0</td>\n",
       "      <td>1</td>\n",
       "      <td>1</td>\n",
       "      <td>0</td>\n",
       "    </tr>\n",
       "    <tr>\n",
       "      <th>4</th>\n",
       "      <td>5</td>\n",
       "      <td>0</td>\n",
       "      <td>90</td>\n",
       "      <td>180.0</td>\n",
       "      <td>1</td>\n",
       "      <td>2795</td>\n",
       "      <td>0</td>\n",
       "      <td>1</td>\n",
       "      <td>0</td>\n",
       "      <td>1</td>\n",
       "      <td>0</td>\n",
       "      <td>1</td>\n",
       "      <td>0</td>\n",
       "      <td>0</td>\n",
       "    </tr>\n",
       "    <tr>\n",
       "      <th>...</th>\n",
       "      <td>...</td>\n",
       "      <td>...</td>\n",
       "      <td>...</td>\n",
       "      <td>...</td>\n",
       "      <td>...</td>\n",
       "      <td>...</td>\n",
       "      <td>...</td>\n",
       "      <td>...</td>\n",
       "      <td>...</td>\n",
       "      <td>...</td>\n",
       "      <td>...</td>\n",
       "      <td>...</td>\n",
       "      <td>...</td>\n",
       "      <td>...</td>\n",
       "    </tr>\n",
       "    <tr>\n",
       "      <th>47851</th>\n",
       "      <td>47852</td>\n",
       "      <td>0</td>\n",
       "      <td>171</td>\n",
       "      <td>360.0</td>\n",
       "      <td>1</td>\n",
       "      <td>2073</td>\n",
       "      <td>4647</td>\n",
       "      <td>1</td>\n",
       "      <td>1</td>\n",
       "      <td>0</td>\n",
       "      <td>1</td>\n",
       "      <td>0</td>\n",
       "      <td>1</td>\n",
       "      <td>0</td>\n",
       "    </tr>\n",
       "    <tr>\n",
       "      <th>47852</th>\n",
       "      <td>47853</td>\n",
       "      <td>3</td>\n",
       "      <td>30</td>\n",
       "      <td>360.0</td>\n",
       "      <td>1</td>\n",
       "      <td>3026</td>\n",
       "      <td>0</td>\n",
       "      <td>1</td>\n",
       "      <td>1</td>\n",
       "      <td>1</td>\n",
       "      <td>1</td>\n",
       "      <td>0</td>\n",
       "      <td>1</td>\n",
       "      <td>0</td>\n",
       "    </tr>\n",
       "    <tr>\n",
       "      <th>47853</th>\n",
       "      <td>47854</td>\n",
       "      <td>0</td>\n",
       "      <td>132</td>\n",
       "      <td>360.0</td>\n",
       "      <td>1</td>\n",
       "      <td>5875</td>\n",
       "      <td>0</td>\n",
       "      <td>0</td>\n",
       "      <td>0</td>\n",
       "      <td>0</td>\n",
       "      <td>0</td>\n",
       "      <td>0</td>\n",
       "      <td>1</td>\n",
       "      <td>0</td>\n",
       "    </tr>\n",
       "    <tr>\n",
       "      <th>47854</th>\n",
       "      <td>47855</td>\n",
       "      <td>3</td>\n",
       "      <td>100</td>\n",
       "      <td>180.0</td>\n",
       "      <td>1</td>\n",
       "      <td>2518</td>\n",
       "      <td>5000</td>\n",
       "      <td>1</td>\n",
       "      <td>1</td>\n",
       "      <td>0</td>\n",
       "      <td>0</td>\n",
       "      <td>1</td>\n",
       "      <td>1</td>\n",
       "      <td>0</td>\n",
       "    </tr>\n",
       "    <tr>\n",
       "      <th>47855</th>\n",
       "      <td>47856</td>\n",
       "      <td>0</td>\n",
       "      <td>108</td>\n",
       "      <td>360.0</td>\n",
       "      <td>0</td>\n",
       "      <td>4663</td>\n",
       "      <td>2414</td>\n",
       "      <td>1</td>\n",
       "      <td>1</td>\n",
       "      <td>0</td>\n",
       "      <td>1</td>\n",
       "      <td>0</td>\n",
       "      <td>0</td>\n",
       "      <td>0</td>\n",
       "    </tr>\n",
       "  </tbody>\n",
       "</table>\n",
       "<p>47856 rows × 14 columns</p>\n",
       "</div>"
      ],
      "text/plain": [
       "          id  family_members  loan_applied  loan_duration  credit_history  \\\n",
       "0          1               2           156          360.0               1   \n",
       "1          2               0           186          400.0               1   \n",
       "2          3               3            50          360.0               1   \n",
       "3          4               1            95          360.0               1   \n",
       "4          5               0            90          180.0               1   \n",
       "...      ...             ...           ...            ...             ...   \n",
       "47851  47852               0           171          360.0               1   \n",
       "47852  47853               3            30          360.0               1   \n",
       "47853  47854               0           132          360.0               1   \n",
       "47854  47855               3           100          180.0               1   \n",
       "47855  47856               0           108          360.0               0   \n",
       "\n",
       "       income_of_applicant  income_of_coapplicant  gender_Male  \\\n",
       "0                     1166                   1053            1   \n",
       "1                     4689                   3261            1   \n",
       "2                    21730                      0            0   \n",
       "3                     8333                      0            1   \n",
       "4                     2795                      0            1   \n",
       "...                    ...                    ...          ...   \n",
       "47851                 2073                   4647            1   \n",
       "47852                 3026                      0            1   \n",
       "47853                 5875                      0            0   \n",
       "47854                 2518                   5000            1   \n",
       "47855                 4663                   2414            1   \n",
       "\n",
       "       marital_status_Yes  education_Not Graduate  property_area_Semiurban  \\\n",
       "0                       1                       1                        0   \n",
       "1                       1                       0                        0   \n",
       "2                       1                       0                        0   \n",
       "3                       1                       1                        0   \n",
       "4                       0                       1                        0   \n",
       "...                   ...                     ...                      ...   \n",
       "47851                   1                       0                        1   \n",
       "47852                   1                       1                        1   \n",
       "47853                   0                       0                        0   \n",
       "47854                   1                       0                        0   \n",
       "47855                   1                       0                        1   \n",
       "\n",
       "       property_area_Urban  loan_status_Y  self_employed_Yes  \n",
       "0                        0              0                  0  \n",
       "1                        0              1                  0  \n",
       "2                        1              0                  0  \n",
       "3                        1              1                  0  \n",
       "4                        1              0                  0  \n",
       "...                    ...            ...                ...  \n",
       "47851                    0              1                  0  \n",
       "47852                    0              1                  0  \n",
       "47853                    0              1                  0  \n",
       "47854                    1              1                  0  \n",
       "47855                    0              0                  0  \n",
       "\n",
       "[47856 rows x 14 columns]"
      ]
     },
     "execution_count": 23,
     "metadata": {},
     "output_type": "execute_result"
    }
   ],
   "source": [
    "tk_dummies"
   ]
  },
  {
   "cell_type": "markdown",
   "id": "eac1f495",
   "metadata": {},
   "source": [
    "### Printing to better understand dummy variable easily"
   ]
  },
  {
   "cell_type": "code",
   "execution_count": 24,
   "id": "ed439f1b",
   "metadata": {},
   "outputs": [
    {
     "data": {
      "text/html": [
       "<div>\n",
       "<style scoped>\n",
       "    .dataframe tbody tr th:only-of-type {\n",
       "        vertical-align: middle;\n",
       "    }\n",
       "\n",
       "    .dataframe tbody tr th {\n",
       "        vertical-align: top;\n",
       "    }\n",
       "\n",
       "    .dataframe thead th {\n",
       "        text-align: right;\n",
       "    }\n",
       "</style>\n",
       "<table border=\"1\" class=\"dataframe\">\n",
       "  <thead>\n",
       "    <tr style=\"text-align: right;\">\n",
       "      <th></th>\n",
       "      <th>id</th>\n",
       "      <th>gender</th>\n",
       "      <th>marital_status</th>\n",
       "      <th>family_members</th>\n",
       "      <th>education</th>\n",
       "      <th>loan_applied</th>\n",
       "      <th>loan_duration</th>\n",
       "      <th>credit_history</th>\n",
       "      <th>property_area</th>\n",
       "      <th>loan_status</th>\n",
       "      <th>self_employed</th>\n",
       "      <th>income_of_applicant</th>\n",
       "      <th>income_of_coapplicant</th>\n",
       "    </tr>\n",
       "  </thead>\n",
       "  <tbody>\n",
       "    <tr>\n",
       "      <th>0</th>\n",
       "      <td>1</td>\n",
       "      <td>Male</td>\n",
       "      <td>Yes</td>\n",
       "      <td>2</td>\n",
       "      <td>Not Graduate</td>\n",
       "      <td>156</td>\n",
       "      <td>360.0</td>\n",
       "      <td>1</td>\n",
       "      <td>Rural</td>\n",
       "      <td>N</td>\n",
       "      <td>No</td>\n",
       "      <td>1166</td>\n",
       "      <td>1053</td>\n",
       "    </tr>\n",
       "    <tr>\n",
       "      <th>1</th>\n",
       "      <td>2</td>\n",
       "      <td>Male</td>\n",
       "      <td>Yes</td>\n",
       "      <td>0</td>\n",
       "      <td>Graduate</td>\n",
       "      <td>186</td>\n",
       "      <td>400.0</td>\n",
       "      <td>1</td>\n",
       "      <td>Rural</td>\n",
       "      <td>Y</td>\n",
       "      <td>No</td>\n",
       "      <td>4689</td>\n",
       "      <td>3261</td>\n",
       "    </tr>\n",
       "    <tr>\n",
       "      <th>2</th>\n",
       "      <td>3</td>\n",
       "      <td>Female</td>\n",
       "      <td>Yes</td>\n",
       "      <td>3</td>\n",
       "      <td>Graduate</td>\n",
       "      <td>50</td>\n",
       "      <td>360.0</td>\n",
       "      <td>1</td>\n",
       "      <td>Urban</td>\n",
       "      <td>N</td>\n",
       "      <td>No</td>\n",
       "      <td>21730</td>\n",
       "      <td>0</td>\n",
       "    </tr>\n",
       "    <tr>\n",
       "      <th>3</th>\n",
       "      <td>4</td>\n",
       "      <td>Male</td>\n",
       "      <td>Yes</td>\n",
       "      <td>1</td>\n",
       "      <td>Not Graduate</td>\n",
       "      <td>95</td>\n",
       "      <td>360.0</td>\n",
       "      <td>1</td>\n",
       "      <td>Urban</td>\n",
       "      <td>Y</td>\n",
       "      <td>No</td>\n",
       "      <td>8333</td>\n",
       "      <td>0</td>\n",
       "    </tr>\n",
       "    <tr>\n",
       "      <th>4</th>\n",
       "      <td>5</td>\n",
       "      <td>Male</td>\n",
       "      <td>No</td>\n",
       "      <td>0</td>\n",
       "      <td>Not Graduate</td>\n",
       "      <td>90</td>\n",
       "      <td>180.0</td>\n",
       "      <td>1</td>\n",
       "      <td>Urban</td>\n",
       "      <td>N</td>\n",
       "      <td>No</td>\n",
       "      <td>2795</td>\n",
       "      <td>0</td>\n",
       "    </tr>\n",
       "  </tbody>\n",
       "</table>\n",
       "</div>"
      ],
      "text/plain": [
       "   id  gender marital_status  family_members     education  loan_applied  \\\n",
       "0   1    Male            Yes               2  Not Graduate           156   \n",
       "1   2    Male            Yes               0      Graduate           186   \n",
       "2   3  Female            Yes               3      Graduate            50   \n",
       "3   4    Male            Yes               1  Not Graduate            95   \n",
       "4   5    Male             No               0  Not Graduate            90   \n",
       "\n",
       "   loan_duration  credit_history property_area loan_status self_employed  \\\n",
       "0          360.0               1         Rural           N            No   \n",
       "1          400.0               1         Rural           Y            No   \n",
       "2          360.0               1         Urban           N            No   \n",
       "3          360.0               1         Urban           Y            No   \n",
       "4          180.0               1         Urban           N            No   \n",
       "\n",
       "   income_of_applicant  income_of_coapplicant  \n",
       "0                 1166                   1053  \n",
       "1                 4689                   3261  \n",
       "2                21730                      0  \n",
       "3                 8333                      0  \n",
       "4                 2795                      0  "
      ]
     },
     "execution_count": 24,
     "metadata": {},
     "output_type": "execute_result"
    }
   ],
   "source": [
    "tk.head()"
   ]
  },
  {
   "cell_type": "code",
   "execution_count": null,
   "id": "3bdad8f9",
   "metadata": {},
   "outputs": [],
   "source": []
  },
  {
   "cell_type": "code",
   "execution_count": null,
   "id": "84861d8f",
   "metadata": {},
   "outputs": [],
   "source": []
  },
  {
   "cell_type": "code",
   "execution_count": null,
   "id": "52a0371d",
   "metadata": {},
   "outputs": [],
   "source": []
  }
 ],
 "metadata": {
  "kernelspec": {
   "display_name": "Python 3 (ipykernel)",
   "language": "python",
   "name": "python3"
  },
  "language_info": {
   "codemirror_mode": {
    "name": "ipython",
    "version": 3
   },
   "file_extension": ".py",
   "mimetype": "text/x-python",
   "name": "python",
   "nbconvert_exporter": "python",
   "pygments_lexer": "ipython3",
   "version": "3.9.12"
  }
 },
 "nbformat": 4,
 "nbformat_minor": 5
}
