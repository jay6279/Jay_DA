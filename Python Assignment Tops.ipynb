{
 "cells": [
  {
   "cell_type": "code",
   "execution_count": 1,
   "id": "aa9e6ee7",
   "metadata": {},
   "outputs": [
    {
     "name": "stdout",
     "output_type": "stream",
     "text": [
      "Enter any number10\n",
      "55.0\n"
     ]
    }
   ],
   "source": [
    "#1 Write a python program to sum of the first n positive integers.\n",
    "\n",
    "n = int(input(\"Enter any number\"))\n",
    "\n",
    "sum = (n * (n + 1)) / 2 \n",
    "\n",
    "print(sum)"
   ]
  },
  {
   "cell_type": "code",
   "execution_count": 5,
   "id": "7f95e329",
   "metadata": {},
   "outputs": [
    {
     "data": {
      "text/plain": [
       "1"
      ]
     },
     "execution_count": 5,
     "metadata": {},
     "output_type": "execute_result"
    }
   ],
   "source": [
    "#2 Write a Python program to count occurrences of a substring in a string.\n",
    "\n",
    "\n",
    "a = \"I am learning Python\"\n",
    "\n",
    "a.count('Python')\n"
   ]
  },
  {
   "cell_type": "code",
   "execution_count": 7,
   "id": "f6166b0e",
   "metadata": {},
   "outputs": [
    {
     "name": "stdout",
     "output_type": "stream",
     "text": [
      "{'I': 1, 'am': 1, 'from': 1, 'Ahmedabad': 1}\n"
     ]
    }
   ],
   "source": [
    "#3. Write a Python program to count the occurrences of each word in a given sentence.\n",
    "\n",
    "def word_count(str):\n",
    "    counts = dict()\n",
    "    words = str.split()\n",
    "\n",
    "    for word in words:\n",
    "        if word in counts:\n",
    "            counts[word] += 1\n",
    "        else:\n",
    "            counts[word] = 1\n",
    "\n",
    "    return counts\n",
    "\n",
    "print( word_count('I am from Ahmedabad'))\n"
   ]
  },
  {
   "cell_type": "code",
   "execution_count": 8,
   "id": "c42d5272",
   "metadata": {},
   "outputs": [
    {
     "name": "stdout",
     "output_type": "stream",
     "text": [
      "xyc abz\n"
     ]
    }
   ],
   "source": [
    "#4. Write a Python program to get a single string from two given strings, separated by a space and swap the first \n",
    "#two characters of each string.\n",
    "\n",
    "\n",
    "\n",
    "def chars_mix_up(a, b):\n",
    "  new_a = b[:2] + a[2:]\n",
    "  new_b = a[:2] + b[2:]\n",
    "\n",
    "  return new_a + ' ' + new_b\n",
    "print(chars_mix_up('abc', 'xyz'))\n",
    "\n",
    "\n",
    "\n",
    "\n",
    "\n",
    "\n",
    "\n"
   ]
  },
  {
   "cell_type": "code",
   "execution_count": 9,
   "id": "7e4b970e",
   "metadata": {},
   "outputs": [
    {
     "ename": "SyntaxError",
     "evalue": "invalid syntax (1596481420.py, line 8)",
     "output_type": "error",
     "traceback": [
      "\u001b[1;36m  Input \u001b[1;32mIn [9]\u001b[1;36m\u001b[0m\n\u001b[1;33m    snot = str1.('not')\u001b[0m\n\u001b[1;37m                ^\u001b[0m\n\u001b[1;31mSyntaxError\u001b[0m\u001b[1;31m:\u001b[0m invalid syntax\n"
     ]
    }
   ],
   "source": [
    "#6. Write a Python program to find the first appearance of the substring 'not' and 'poor' from a given string, if \n",
    "#'not' follows the 'poor', replace the whole 'not'...'poor' substring with 'good'. \n",
    "#Return the resulting string\n",
    "\n",
    "\n",
    "\n",
    "def not_poor(str1):\n",
    "  snot = str1.('not')\n",
    "  spoor = str1.find('poor')\n",
    "  \n",
    "\n",
    "  if spoor > snot and snot>0 and spoor>0:\n",
    "    str1 = str1.replace(str1[snot:(spoor+4)], 'good')\n",
    "    return str1\n",
    "  else:\n",
    "    return str1\n",
    "print(not_poor('The lyrics is not that poor!'))\n",
    "print(not_poor('The lyrics is poor!'))\n"
   ]
  },
  {
   "cell_type": "code",
   "execution_count": 12,
   "id": "4ad373dd",
   "metadata": {},
   "outputs": [
    {
     "data": {
      "text/plain": [
       "5"
      ]
     },
     "execution_count": 12,
     "metadata": {},
     "output_type": "execute_result"
    }
   ],
   "source": [
    "#9 Write a Python program to find the second smallest number in a list. \n",
    "\n",
    "lst = [2, 5, 7, 9, 3, 11]\n",
    "\n",
    "def find_number(number):\n",
    "    number.sort()\n",
    "    return number[2]\n",
    "\n",
    "find_number(lst)"
   ]
  },
  {
   "cell_type": "code",
   "execution_count": 14,
   "id": "ef537731",
   "metadata": {},
   "outputs": [
    {
     "data": {
      "text/plain": [
       "[1, 2, 3, 4, 6, 7, 9, 10]"
      ]
     },
     "execution_count": 14,
     "metadata": {},
     "output_type": "execute_result"
    }
   ],
   "source": [
    "#10. Write a Python program to get unique values from a list.\n",
    "\n",
    "\n",
    "lst = [1, 2, 3, 3, 4, 6, 7, 7, 9, 10]\n",
    "\n",
    "def unique(lst):\n",
    "    return list(set(lst))\n",
    "\n",
    "unique(lst)"
   ]
  },
  {
   "cell_type": "code",
   "execution_count": 16,
   "id": "0c8488ce",
   "metadata": {},
   "outputs": [
    {
     "name": "stdout",
     "output_type": "stream",
     "text": [
      "(10, 15, 21)\n",
      "(12, 18, 22)\n",
      "(13, 20, 24)\n"
     ]
    }
   ],
   "source": [
    "#11. Write a Python program to unzip a list of tuples into individual lists.\n",
    "\n",
    "\n",
    "a = [(10, 12, 13) , (15, 18, 20) , (21, 22, 24)]\n",
    "\n",
    "def unzip(a):\n",
    "    return zip(*a)\n",
    "\n",
    "a , b , c = unzip(a)\n",
    "\n",
    "print(a)\n",
    "print(b)\n",
    "print(c)\n",
    "\n"
   ]
  },
  {
   "cell_type": "code",
   "execution_count": 18,
   "id": "ad553a93",
   "metadata": {},
   "outputs": [
    {
     "data": {
      "text/plain": [
       "{(1, 2, 3, 4, 55)}"
      ]
     },
     "execution_count": 18,
     "metadata": {},
     "output_type": "execute_result"
    }
   ],
   "source": [
    "#12. Write a Python program to convert a list of tuples into a dictionary.\n",
    "\n",
    "\n",
    "lst = [1,2,3,4,55]\n",
    "\n",
    "t = tuple(lst)\n",
    "\n",
    "t\n",
    "\n",
    "d = {t}\n",
    "\n",
    "d"
   ]
  },
  {
   "cell_type": "code",
   "execution_count": 19,
   "id": "9a0e9cf5",
   "metadata": {},
   "outputs": [],
   "source": [
    "#14. Write a Python program to find the highest 3 values in a dictionary.\n",
    "\n"
   ]
  },
  {
   "cell_type": "code",
   "execution_count": null,
   "id": "fbca4fd0",
   "metadata": {},
   "outputs": [],
   "source": []
  },
  {
   "cell_type": "code",
   "execution_count": null,
   "id": "c5729f6f",
   "metadata": {},
   "outputs": [],
   "source": []
  },
  {
   "cell_type": "code",
   "execution_count": 21,
   "id": "0dd9eb7d",
   "metadata": {},
   "outputs": [
    {
     "name": "stdout",
     "output_type": "stream",
     "text": [
      "Any number10\n",
      "0\n",
      "1\n",
      "1\n",
      "2\n",
      "3\n",
      "5\n",
      "8\n",
      "13\n",
      "21\n",
      "34\n"
     ]
    }
   ],
   "source": [
    "#15. Given a number n, write a python program to make and print the list of Fibonacci series up to n.\n",
    "\n",
    "\n",
    "\n",
    "n = int(input(\"Any number\"))\n",
    "\n",
    "a = 0 \n",
    "b = 1 \n",
    "\n",
    "print(a)\n",
    "print(b)\n",
    "\n",
    "for i in range(2 , n):\n",
    "    c = a + b\n",
    "    print(c)\n",
    "    a = b\n",
    "    b = c "
   ]
  },
  {
   "cell_type": "code",
   "execution_count": 25,
   "id": "5cdb316b",
   "metadata": {},
   "outputs": [
    {
     "data": {
      "text/plain": [
       "24"
      ]
     },
     "execution_count": 25,
     "metadata": {},
     "output_type": "execute_result"
    }
   ],
   "source": [
    "#18.Python Program to Find Factorial of Number Using Recursion.\n",
    "\n",
    "def factorial(n):\n",
    "    if n == 1:\n",
    "        return 1 \n",
    "    else:\n",
    "        return n * factorial(n-1)\n",
    "    \n",
    "factorial(4)"
   ]
  },
  {
   "cell_type": "code",
   "execution_count": 32,
   "id": "e3faa8c4",
   "metadata": {},
   "outputs": [
    {
     "data": {
      "text/plain": [
       "[1, 2, 3, 4, 5, 7, 8, 10, 11]"
      ]
     },
     "execution_count": 32,
     "metadata": {},
     "output_type": "execute_result"
    }
   ],
   "source": [
    "#19. Write a Python function that takes a list and returns a new list with unique elements of the first list.\n",
    "\n",
    "\n",
    "def unique(lst):\n",
    "    return list(set(lst))\n",
    "    \n",
    "lst = [1, 2, 3, 1, 4, 5, 4, 7, 8, 10, 11, 11]\n",
    "   \n",
    "\n",
    "unique(lst)"
   ]
  },
  {
   "cell_type": "code",
   "execution_count": null,
   "id": "95503784",
   "metadata": {},
   "outputs": [],
   "source": []
  }
 ],
 "metadata": {
  "kernelspec": {
   "display_name": "Python 3 (ipykernel)",
   "language": "python",
   "name": "python3"
  },
  "language_info": {
   "codemirror_mode": {
    "name": "ipython",
    "version": 3
   },
   "file_extension": ".py",
   "mimetype": "text/x-python",
   "name": "python",
   "nbconvert_exporter": "python",
   "pygments_lexer": "ipython3",
   "version": "3.9.12"
  }
 },
 "nbformat": 4,
 "nbformat_minor": 5
}
